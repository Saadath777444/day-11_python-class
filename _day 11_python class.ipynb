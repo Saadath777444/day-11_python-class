{
 "cells": [
  {
   "cell_type": "code",
   "execution_count": null,
   "id": "bea7d737",
   "metadata": {},
   "outputs": [],
   "source": [
    "Introduction to clases:"
   ]
  },
  {
   "cell_type": "code",
   "execution_count": null,
   "id": "91f33ff6",
   "metadata": {},
   "outputs": [],
   "source": [
    "class:\n",
    "method\n",
    "objects/instances\n",
    "attributes\n",
    "self"
   ]
  },
  {
   "cell_type": "code",
   "execution_count": null,
   "id": "f9d0a608",
   "metadata": {},
   "outputs": [],
   "source": []
  },
  {
   "cell_type": "code",
   "execution_count": null,
   "id": "fe007579",
   "metadata": {},
   "outputs": [],
   "source": [
    "class : It is  blue print of the high level program :"
   ]
  },
  {
   "cell_type": "code",
   "execution_count": null,
   "id": "bdfc662b",
   "metadata": {},
   "outputs": [],
   "source": [
    "#class---> is the keyword that we will be using to define the class"
   ]
  },
  {
   "cell_type": "code",
   "execution_count": null,
   "id": "c3b21e27",
   "metadata": {},
   "outputs": [],
   "source": [
    "#method .....> A function written inside the class is called as method"
   ]
  },
  {
   "cell_type": "code",
   "execution_count": null,
   "id": "e063fa7e",
   "metadata": {},
   "outputs": [],
   "source": [
    "# object-----> It is used to access the method defined under the class"
   ]
  },
  {
   "cell_type": "code",
   "execution_count": null,
   "id": "ec2c355c",
   "metadata": {},
   "outputs": [],
   "source": [
    "# attributes--->A variable written inside the class is called as an attribute"
   ]
  },
  {
   "cell_type": "code",
   "execution_count": null,
   "id": "a9ae7295",
   "metadata": {},
   "outputs": [],
   "source": [
    "# self ---->It is replica of the object / instance defined..."
   ]
  },
  {
   "cell_type": "code",
   "execution_count": null,
   "id": "683a9ef0",
   "metadata": {},
   "outputs": [],
   "source": []
  },
  {
   "cell_type": "code",
   "execution_count": null,
   "id": "a39ae175",
   "metadata": {},
   "outputs": [],
   "source": []
  },
  {
   "cell_type": "code",
   "execution_count": null,
   "id": "93372540",
   "metadata": {},
   "outputs": [],
   "source": []
  },
  {
   "cell_type": "code",
   "execution_count": null,
   "id": "67db7c62",
   "metadata": {},
   "outputs": [],
   "source": []
  },
  {
   "cell_type": "code",
   "execution_count": null,
   "id": "a9985144",
   "metadata": {},
   "outputs": [],
   "source": []
  }
 ],
 "metadata": {
  "kernelspec": {
   "display_name": "Python 3 (ipykernel)",
   "language": "python",
   "name": "python3"
  },
  "language_info": {
   "codemirror_mode": {
    "name": "ipython",
    "version": 3
   },
   "file_extension": ".py",
   "mimetype": "text/x-python",
   "name": "python",
   "nbconvert_exporter": "python",
   "pygments_lexer": "ipython3",
   "version": "3.11.3"
  }
 },
 "nbformat": 4,
 "nbformat_minor": 5
}
